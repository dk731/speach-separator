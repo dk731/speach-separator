{
 "cells": [
  {
   "cell_type": "code",
   "execution_count": 1,
   "metadata": {},
   "outputs": [
    {
     "data": {
      "text/plain": [
       "True"
      ]
     },
     "execution_count": 1,
     "metadata": {},
     "output_type": "execute_result"
    }
   ],
   "source": [
    "import os\n",
    "from dotenv import load_dotenv\n",
    "\n",
    "import pandas as pd\n",
    "import numpy as np\n",
    "import matplotlib.pyplot as plt\n",
    "\n",
    "from mutagen.mp3 import MP3\n",
    "from pydub import AudioSegment\n",
    "import random\n",
    "\n",
    "from threading import Thread\n",
    "from time import sleep\n",
    "\n",
    "from tqdm.notebook import tqdm\n",
    "\n",
    "load_dotenv(\"../.env\")"
   ]
  },
  {
   "cell_type": "code",
   "execution_count": 2,
   "metadata": {},
   "outputs": [],
   "source": [
    "VALIDATED_LIST_PATH = os.path.join(os.getenv(\"CLIPS_META_PATH\"), \"validated.tsv\")\n",
    "X_VECTOR_SAMPLES_PATH = os.path.join(os.getenv(\"X_VECTOR_SAMPLES_PATH\"))"
   ]
  },
  {
   "cell_type": "code",
   "execution_count": 3,
   "metadata": {},
   "outputs": [],
   "source": [
    "# Load clips metadata\n",
    "clips_meta = pd.read_table(VALIDATED_LIST_PATH)"
   ]
  },
  {
   "cell_type": "code",
   "execution_count": 4,
   "metadata": {},
   "outputs": [],
   "source": [
    "CLIPS_CROSSFADE_DURATION = 100 # ms\n",
    "MAX_CLIP_DURATION = 30 # seconds\n",
    "THREADS_COUNT = 24\n",
    "\n",
    "# Get all unique in client_id column\n",
    "client_ids = list(clips_meta[\"client_id\"].unique())\n",
    "\n",
    "processed_counter = 0"
   ]
  },
  {
   "cell_type": "code",
   "execution_count": 5,
   "metadata": {},
   "outputs": [],
   "source": [
    "def process_client():\n",
    "    global processed_counter\n",
    "\n",
    "    while True:\n",
    "        try:\n",
    "            client_id = client_ids.pop(0)\n",
    "        except:\n",
    "            break\n",
    "\n",
    "        client_clips = clips_meta[clips_meta.client_id == client_id]\n",
    "\n",
    "        clips_paths = [os.path.join(os.getenv(\"CLIPS_PATH\"), clip_path + \".mp3\") for clip_path in client_clips[\"path\"]]\n",
    "        random.shuffle(clips_paths)\n",
    "\n",
    "        output_length = 0\n",
    "        audio_segments = []\n",
    "\n",
    "        for clip in clips_paths:\n",
    "            current_segment = AudioSegment.from_mp3(clip)\n",
    "\n",
    "            if output_length + current_segment.duration_seconds > MAX_CLIP_DURATION:\n",
    "                break\n",
    "            \n",
    "            output_length += current_segment.duration_seconds\n",
    "            audio_segments.append(current_segment)\n",
    "\n",
    "        # Skip clients with less than 2 seconds of audio\n",
    "        if output_length < 2:\n",
    "            continue\n",
    "        \n",
    "        output_clip = audio_segments.pop(0)\n",
    "        for audio_segment in audio_segments:\n",
    "            output_clip = output_clip.append(audio_segment, crossfade=CLIPS_CROSSFADE_DURATION)\n",
    "\n",
    "        output_clip.export(os.path.join(X_VECTOR_SAMPLES_PATH, f\"{client_id}.wav\"), format=\"wav\")\n",
    "\n",
    "        processed_counter += 1"
   ]
  },
  {
   "cell_type": "code",
   "execution_count": 6,
   "metadata": {},
   "outputs": [
    {
     "data": {
      "application/vnd.jupyter.widget-view+json": {
       "model_id": "1044401da112479f9a7242e20f2e8a4a",
       "version_major": 2,
       "version_minor": 0
      },
      "text/plain": [
       "  0%|          | 0/26744 [00:00<?, ?it/s]"
      ]
     },
     "metadata": {},
     "output_type": "display_data"
    }
   ],
   "source": [
    "processed_counter = 0\n",
    "last_count = processed_counter\n",
    "\n",
    "thread_handles = [Thread(target=process_client, daemon=True) for _ in range(THREADS_COUNT)]\n",
    "\n",
    "with tqdm(total=len(client_ids)) as pbar:\n",
    "    for thread in thread_handles:\n",
    "        thread.start()\n",
    "\n",
    "    while len(client_ids) > 0:\n",
    "        tmp = processed_counter\n",
    "        update_value = tmp - last_count\n",
    "        \n",
    "        pbar.update(update_value)\n",
    "        pbar.refresh()\n",
    "\n",
    "        last_count = tmp\n",
    "        sleep(0.1)\n",
    "\n",
    "for thread in thread_handles:\n",
    "    thread.join()"
   ]
  },
  {
   "cell_type": "code",
   "execution_count": null,
   "metadata": {},
   "outputs": [],
   "source": []
  }
 ],
 "metadata": {
  "kernelspec": {
   "display_name": "tf-gpu",
   "language": "python",
   "name": "python3"
  },
  "language_info": {
   "codemirror_mode": {
    "name": "ipython",
    "version": 3
   },
   "file_extension": ".py",
   "mimetype": "text/x-python",
   "name": "python",
   "nbconvert_exporter": "python",
   "pygments_lexer": "ipython3",
   "version": "3.9.16"
  },
  "orig_nbformat": 4
 },
 "nbformat": 4,
 "nbformat_minor": 2
}
